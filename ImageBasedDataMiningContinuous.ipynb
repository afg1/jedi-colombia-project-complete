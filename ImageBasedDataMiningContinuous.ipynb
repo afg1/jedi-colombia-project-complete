{
 "cells": [
  {
   "cell_type": "markdown",
   "metadata": {},
   "source": [
    "## ImageBasedDataMiningContinuous.ipynb\n",
    "‹ ImageBasedDataMining.ipynb › Copyright (C) ‹ 2019 › ‹ Andrew Green - andrew.green-2@manchester.ac.uk › This program is free software: you can redistribute it and/or modify it under the terms of the GNU General Public License as published by the Free Software Foundation, either version 3 of the License, or (at your option) any later version.\n",
    "\n",
    "This program is distributed in the hope that it will be useful, but WITHOUT ANY WARRANTY; without even the implied warranty of MERCHANTABILITY or FITNESS FOR A PARTICULAR PURPOSE. See the GNU General Public License for more details. You should have received a copy of the GNU General Public License along with this program. If not, see http://www.gnu.org/licenses/."
   ]
  },
  {
   "cell_type": "code",
   "execution_count": 1,
   "metadata": {},
   "outputs": [],
   "source": [
    "\"\"\"\n",
    "| date      | who     | note                                                  |\n",
    "|----------|----------|-------------------------------------------------------|\n",
    "| 20190201 |    afg   |  First version, adapted from MadagaSKA code           |\n",
    "| 20190208 |    afg   |  Updated code, completed up to point of plotting      |\n",
    "| 20190208 |    afg   |  Update paths in code to work with docker container   |\n",
    "\"\"\";"
   ]
  },
  {
   "cell_type": "markdown",
   "metadata": {},
   "source": [
    "This notebook shows how to do image based data mining against a continuous outcome. The outcome could be whatever you like, provided it is a continuous variable; some examples include weight loss, muscle area loss and feeding tube duration"
   ]
  },
  {
   "cell_type": "code",
   "execution_count": 30,
   "metadata": {},
   "outputs": [
    {
     "data": {
      "text/html": [
       "<style>.container { width:100% !important; }</style>"
      ],
      "text/plain": [
       "<IPython.core.display.HTML object>"
      ]
     },
     "metadata": {},
     "output_type": "display_data"
    }
   ],
   "source": [
    "## Import libraries and set up\n",
    "\n",
    "import os\n",
    "import time\n",
    "import os.path\n",
    "import numpy as np\n",
    "try:\n",
    "    from tqdm import tqdm_notebook as tqdm\n",
    "    haveTQDM = True\n",
    "except:\n",
    "    haveTQDM = False\n",
    "import SimpleITK as sitk\n",
    "import matplotlib.pyplot as plt\n",
    "\n",
    "%matplotlib inline\n",
    "\n",
    "## Make the notebook use full width of display\n",
    "from IPython.core.display import display, HTML\n",
    "display(HTML(\"<style>.container { width:100% !important; }</style>\"))\n",
    "\n"
   ]
  },
  {
   "cell_type": "code",
   "execution_count": 32,
   "metadata": {},
   "outputs": [
    {
     "data": {
      "application/javascript": [
       "// this cell stops the notebook from putting outut in scrolling frames, which I find really annoying\n",
       "IPython.OutputArea.prototype._should_scroll = function(lines){return false;}\n"
      ],
      "text/plain": [
       "<IPython.core.display.Javascript object>"
      ]
     },
     "metadata": {},
     "output_type": "display_data"
    }
   ],
   "source": [
    "%%javascript\n",
    "// this cell stops the notebook from putting outut in scrolling frames, which I find really annoying\n",
    "IPython.OutputArea.prototype._should_scroll = function(lines){return false;}"
   ]
  },
  {
   "cell_type": "markdown",
   "metadata": {},
   "source": [
    "Once again, we will use pandas to load the csv. The next cell contains all the pre-processing from the binary data mining, in a single cell, including the check that a dose distribution is available for each patient. By the end of the cell, we should have a set of clean data again."
   ]
  },
  {
   "cell_type": "code",
   "execution_count": 4,
   "metadata": {},
   "outputs": [],
   "source": [
    "import pandas as pd\n",
    "\n",
    "clinicalDataPath = \"/data/clinicalData.csv\"\n",
    "\n",
    "clinicalData = pd.read_csv(clinicalDataPath)\n",
    "\n",
    "ccrtOnlyPatients = clinicalData[(clinicalData[\"Oncologic Treatment Summary\"].str.contains('^CCRT', regex=True)) & (clinicalData[\"Oncologic Treatment Summary\"].str.contains('\\+', regex=True) == False)]\n",
    "len(ccrtOnlyPatients[\"Oncologic Treatment Summary\"])\n",
    "\n",
    "selectedPatients = ccrtOnlyPatients[ccrtOnlyPatients[\"Number of Fractions\"].astype(int) < 40]\n",
    "len(selectedPatients[\"Number of Fractions\"])\n",
    "\n",
    "def calculateBEDCorrection(df, early=True):\n",
    "    earlyAlphaBeta = 10.0\n",
    "    lateAlphaBeta  = 03.0\n",
    "    if early:\n",
    "        df = df.assign(BEDfactor = lambda d : 1.0 + d[\"Dose/Fraction (Gy/fx)\"].astype(float)/earlyAlphaBeta)\n",
    "    else:\n",
    "        df = df.assign(BEDfactor = lambda d : 1.0 + d[\"Dose/Fraction (Gy/fx)\"].astype(float)/lateAlphaBeta)\n",
    "    return df\n",
    "\n",
    "selectedPatients = calculateBEDCorrection(selectedPatients)\n",
    "\n",
    "dosesPath = \"/data/registeredDoses\"\n",
    "availableDoses = [\"HNSCC-01-{0}\".format(a.split('.')[0]) for a in os.listdir(dosesPath)]\n",
    "\n",
    "availablePatientsMask = selectedPatients['ID'].isin(availableDoses)\n",
    "probeDose = sitk.GetArrayFromImage(sitk.ReadImage(os.path.join(dosesPath, \"{0:04d}.nii\".format(int(2)))))\n",
    "\n",
    "selectedPatients = selectedPatients.loc[availablePatientsMask]\n"
   ]
  },
  {
   "cell_type": "markdown",
   "metadata": {},
   "source": [
    "Now we have our BED correction, we can start loading data ready to do mining. We will load each image using SimpleITK, convert it to a numpy array and put it into a bit numpy array. We will concurrently load the binary status from the clinical data as well and put that into a numpy array.\n",
    "\n",
    "In the next cell, we will load all our data. Note that we pre-allocate the numpy array we will use to hold the data - this is a performance optimisation to make loading the data a bit quicker."
   ]
  },
  {
   "cell_type": "code",
   "execution_count": 5,
   "metadata": {},
   "outputs": [
    {
     "name": "stdout",
     "output_type": "stream",
     "text": [
      "(123, 128, 128)\n",
      "(123, 128, 128, 48)\n"
     ]
    }
   ],
   "source": [
    "probeDose = sitk.GetArrayFromImage(sitk.ReadImage(os.path.join(dosesPath, \"{0:04d}.nii\".format(int(2)))))\n",
    "\n",
    "doseArray = np.zeros((*probeDose.shape, len(selectedPatients)))\n",
    "statusArray = np.zeros((len(selectedPatients),1))\n",
    "\n",
    "n = 0\n",
    "for idx, pt in selectedPatients.iterrows():\n",
    "    doseArray[...,n] = pt.BEDfactor * sitk.GetArrayFromImage(sitk.ReadImage(os.path.join(dosesPath, \"{0}.nii\".format(pt.ID.split(\"-\")[-1]))))\n",
    "    n += 1"
   ]
  },
  {
   "cell_type": "markdown",
   "metadata": {},
   "source": [
    "Now we have our data, and we have corrected all the doses tot eh same BED, we are ready to do continuous outcome image based data mining.\n",
    "\n",
    "For this we need to select a suitable outcome variable - I suggest weight loss as a good one to start with. \n",
    "\n",
    "The next cell defines a function that calculates the pearson correlation coefficient in each voxel of the dose distribution. To do this, we slightly modify the online calculation of variance used in the binary data mining to do online calculation of covariance. The formula for pearson's correlation coefficient is then:\n",
    "\n",
    "$ \\rho = \\frac{cov(X,Y)}{\\sigma_{x} \\sigma_{y}} $\n",
    "\n",
    "\n",
    "(note: strictly, this is for a population, but the estimates for variance and covariance we return are for a sample, so it will work)\n"
   ]
  },
  {
   "cell_type": "code",
   "execution_count": 58,
   "metadata": {},
   "outputs": [],
   "source": [
    "def imagesCorrelation(doseData, continuousOutcome, mask=None):\n",
    "    \"\"\"\n",
    "    Calculate a per-voxel correlation coefficient between two images. Uses Welford's method to calculate mean, variance and covariance. \n",
    "    \n",
    "    Inputs:\n",
    "        - doseData: the dose data, should be structured such that the number of patients in it is along the last axis\n",
    "        - statuses: the outcome labels. 1 indicates an event, 0 indicates no event\n",
    "    Returns:\n",
    "        - rhoValues: an array of the same size as one of the images which contains the per-voxel rho values\n",
    "    \"\"\"\n",
    "    doseMean = np.zeros_like(doseData[...,0])\n",
    "    doseStd = np.zeros_like(doseData[...,0])\n",
    "    covariance = np.zeros_like(doseData[...,0])\n",
    "    C = np.zeros_like(doseData[...,0])\n",
    "    rho = np.zeros_like(doseData[...,0])\n",
    "    \n",
    "    \n",
    "    outcomeMean = 0.0\n",
    "    outcomeVar = 0.0\n",
    "    doseMean[np.where(mask)] += doseData[...,0][np.where(mask)]\n",
    "    outcomeMean += continuousOutcome[0]\n",
    "    subjectCount = 1.0\n",
    "    \n",
    "    for n,y in zip(range(1, doseData.shape[-1]), continuousOutcome[1:]):\n",
    "        x = doseData[...,n]\n",
    "        subjectCount += 1.0\n",
    "        dx = x - doseMean\n",
    "        \n",
    "        om = doseMean.copy()\n",
    "        yom = outcomeMean.copy()\n",
    "\n",
    "        doseMean[np.where(mask)] += dx[np.where(mask)]/subjectCount\n",
    "        outcomeMean += (y - outcomeMean)/subjectCount\n",
    "\n",
    "        doseStd[np.where(mask)] += ((x[np.where(mask)] - om[np.where(mask)])*(x[np.where(mask)] - doseMean[np.where(mask)]))\n",
    "        outcomeVar += (y - yom)*(y - outcomeMean)\n",
    "\n",
    "        C[np.where(mask)] += (dx[np.where(mask)] * (y - outcomeMean))\n",
    "        \n",
    "    doseStd[np.where(mask)] /= (subjectCount)\n",
    "    outcomeVar /= (subjectCount)\n",
    "    covariance[np.where(mask)] = C[np.where(mask)] / (subjectCount - 1) ## Bessel's correction for a sample\n",
    "\n",
    "    rho[np.where(mask)] = covariance[np.where(mask)] / (np.sqrt(doseStd[np.where(mask)]) * np.sqrt(outcomeVar))\n",
    "#     if mask is not None:\n",
    "#         rho *= mask.astype(np.float64)\n",
    "    return rho"
   ]
  },
  {
   "cell_type": "markdown",
   "metadata": {},
   "source": [
    "This function is very similar to the one we used in the binary IBDM code, but this time it also calculates the covariance between dose in each voxel and the continuous outcome variable. We then use that covariance to calculate the correlation between dose and outcome.\n",
    "\n",
    "Now we can apply the mining to some data.  The first thing we need to do is select a continuous outcome variable; we will try weight loss first - we need to create this variable from our database in the same way we did for the BEDfactor earlier."
   ]
  },
  {
   "cell_type": "code",
   "execution_count": 61,
   "metadata": {},
   "outputs": [],
   "source": [
    "probeDose = sitk.GetArrayFromImage(sitk.ReadImage(os.path.join(dosesPath, \"{0:04d}.nii\".format(int(2)))))\n",
    "doseArray = np.zeros((*probeDose.shape, len(selectedPatients)))\n",
    "n = 0\n",
    "for idx, pt in selectedPatients.iterrows():\n",
    "    doseArray[...,n] = pt.BEDfactor * sitk.GetArrayFromImage(sitk.ReadImage(os.path.join(dosesPath, \"{0}.nii\".format(pt.ID.split(\"-\")[-1]))))\n",
    "    n += 1\n",
    "    \n",
    "selectedPatients = selectedPatients.assign(WeightLoss = lambda d : d[\"WeightStop\"] - d[\"WeightStart\"])\n",
    "weightLoss = selectedPatients.WeightLoss.values   \n"
   ]
  },
  {
   "cell_type": "code",
   "execution_count": 62,
   "metadata": {},
   "outputs": [],
   "source": [
    "mask = sitk.GetArrayFromImage(sitk.ReadImage(\"/data/0002_mask_ds.nii\")).astype(np.int16)\n",
    "\n",
    "rhoMap = imagesCorrelation(doseArray, weightLoss, mask=mask)\n",
    "\n",
    "referenceAnatomy = sitk.GetArrayFromImage(sitk.ReadImage(\"/data/downsampledCTs/0002.nii\"))"
   ]
  },
  {
   "cell_type": "code",
   "execution_count": 63,
   "metadata": {},
   "outputs": [
    {
     "data": {
      "image/png": "[encoded data removed]",
      "text/plain": [
       "<Figure size 720x720 with 1 Axes>"
      ]
     },
     "metadata": {
      "needs_background": "light"
     },
     "output_type": "display_data"
    }
   ],
   "source": [
    "fig = plt.figure(figsize=(10,10))\n",
    "anatomy = plt.imshow(referenceAnatomy[:,64,...], cmap='Greys_r')\n",
    "rhoMapOverlay = plt.imshow(rhoMap[:,64,...], alpha=0.5)\n",
    "_ = plt.axis('off')"
   ]
  },
  {
   "cell_type": "markdown",
   "metadata": {},
   "source": [
    "Now we've got our correlation map with the true correspondence of weight loss to dose, we can compute the permutation distribution again to get the significance of the correlation.\n",
    "\n",
    "This works just like before, we just rearrange the weight loss values and re-calculate the correlation coefficient and look at how the most extreme voxels behave"
   ]
  },
  {
   "cell_type": "code",
   "execution_count": 84,
   "metadata": {},
   "outputs": [],
   "source": [
    "def doPermutation(doseData, outcome, mask=None):\n",
    "    \"\"\"\n",
    "    Permute the statuses and return the maximum t value for this permutation\n",
    "    Inputs:\n",
    "        - doseData: the dose data, should be structured such that the number of patients in it is along the last axis\n",
    "        - outcome: the outcome values. Shuold be a continuous number. These will be permuted in this function to \n",
    "                    assess the null hypothesis of no dose interaction\n",
    "        - mask: A mask outside which we will ignore the returned correlation\n",
    "    Returns:\n",
    "        - (tMin, tMax): the extreme values of the whole t-value map for this permutation\n",
    "    \"\"\"\n",
    "    poutcome = np.random.permutation(outcome)\n",
    "    permT = imagesCorrelation(doseData, poutcome, mask)\n",
    "    return (np.min(permT), np.max(permT))\n",
    "\n",
    "\n",
    "def permutationTest(doseData, outcome, nperm=1000, mask=None):\n",
    "    \"\"\"\n",
    "    Perform a permutation test to get the global p-value and t-thresholds\n",
    "    Inputs:\n",
    "        - doseData: the dose data, should be structured such that the number of patients in it is along the last axis\n",
    "        - outcome: the outcome labels. Should be a continuous number.\n",
    "        - nperm: The number of permutations to calculate. Defaults to 1000 which is the minimum for reasonable accuracy\n",
    "        - mask: A mask outside which we will ignore the returned correlation\n",
    "    Returns:\n",
    "        - globalPNeg: the global significance of the test for negative t-values\n",
    "        - globalPPos: the global significance of the test for positive t-values\n",
    "        - tThreshNeg: the list of minT from all the permutations, use it to set a significance threshold.\n",
    "        - tThreshPos: the list of maxT from all the permutations, use it to set a significance threshold.\n",
    "    \"\"\"\n",
    "    tthresh = []\n",
    "    gtCount = 1\n",
    "    ltCount = 1\n",
    "    trueT = imagesCorrelation(doseData, outcome, mask=mask)\n",
    "    trueMaxT = np.max(trueT)\n",
    "    trueMinT = np.min(trueT)\n",
    "    if haveTQDM:\n",
    "        for perm in tqdm(range(nperm)):\n",
    "            tthresh.append(doPermutation(doseData, outcome, mask))\n",
    "            if tthresh[-1][1] > trueMaxT:\n",
    "                gtCount += 1.0\n",
    "            if tthresh[-1][0] < trueMinT:\n",
    "                ltCount += 1.0\n",
    "    else:\n",
    "        for perm in range(nperm):\n",
    "            tthresh.append(doPermutation(doseData, outcome, mask))\n",
    "            if tthresh[-1][1] > trueMaxT:\n",
    "                gtCount += 1.0\n",
    "            if tthresh[-1][0] < trueMinT:\n",
    "                ltCount += 1.0\n",
    "    \n",
    "    globalpPos = gtCount / float(nperm)\n",
    "    globalpNeg = ltCount / float(nperm)\n",
    "    tthresh = np.array(tthresh)\n",
    "    return (globalpNeg, globalpPos, sorted(tthresh[:,0]), sorted(tthresh[:,1]))"
   ]
  },
  {
   "cell_type": "markdown",
   "metadata": {},
   "source": [
    "If we run this function with our data, we will get back the global significance and threshold values of $\\rho$. We can then use a contour plot at the 95th percentile to indicate regions of significance.\n",
    "\n",
    "Let's try doing it now - this is once again equivalent to the binary data mining, but with the continuous data mining code we wrote above. The function call is identical to the binary version, but because the content of the functions is different, it is now doing the calculation with continuous IBDM.\n",
    "\n",
    "*Warning: this cell will take a really long time to run! On my machine, it was about 13 minutes*"
   ]
  },
  {
   "cell_type": "code",
   "execution_count": 85,
   "metadata": {},
   "outputs": [
    {
     "data": {
      "application/vnd.jupyter.widget-view+json": {
       "model_id": "0030fee88a914936a952ea3acc4d3274",
       "version_major": 2,
       "version_minor": 0
      },
      "text/plain": [
       "HBox(children=(IntProgress(value=0), HTML(value='')))"
      ]
     },
     "metadata": {},
     "output_type": "display_data"
    }
   ],
   "source": [
    "pNeg, pPos, threshNeg, threshPos = permutationTest(doseArray, weightLoss, nperm=100, mask=mask)"
   ]
  },
  {
   "cell_type": "code",
   "execution_count": 86,
   "metadata": {},
   "outputs": [
    {
     "name": "stdout",
     "output_type": "stream",
     "text": [
      "0.01 0.85\n",
      "-0.5678511904799166\n",
      "[-0.6219988997229952, -0.6175109076226357, -0.6134544096890089, -0.6121589002562852, -0.5910111181363896, -0.5834143480176562, -0.578927972628363, -0.5772683707482428, -0.5701034260885904, -0.5684780428630538, -0.5677815402151236, -0.567112051274208, -0.5663344552054927, -0.5618815876344448, -0.5570916973689114, -0.5528503196099662, -0.5426539868773923, -0.5423036971071672, -0.5413197498875186, -0.5357858691601717, -0.5290405591943447, -0.5286249352917888, -0.5281143682691387, -0.5276382490274352, -0.5222747681754554, -0.5217438354606565, -0.5203435328826153, -0.5203420652859473, -0.5161209326497409, -0.5115959938480666, -0.5101799834370042, -0.509385687968707, -0.5074642602827084, -0.5069577884284177, -0.5067445160059888, -0.5054098906395075, -0.5038250244240755, -0.500749104972936, -0.49791810677018844, -0.49667674515174803, -0.4963699384184846, -0.49627667205388376, -0.4956437913183157, -0.49324123344749005, -0.4928835686157826, -0.49177137369837537, -0.4900995815649822, -0.4893313063545188, -0.48892091264420573, -0.4876952233186942, -0.4868397069915791, -0.48660366147002587, -0.4865930222580107, -0.4862768117913989, -0.48507651469482477, -0.48420269757786555, -0.4836388210286083, -0.4826712485167549, -0.4814986615992971, -0.4756493535258817, -0.4754330109385045, -0.47453227872412945, -0.4723912885521767, -0.4721632318160545, -0.46975396698765104, -0.4685400833654899, -0.46684621957115635, -0.46593763407035327, -0.46452621395729726, -0.46219120981134537, -0.45956874340046794, -0.4589351229167462, -0.4580773081418265, -0.45129522755029905, -0.4502150885586886, -0.44989134639234923, -0.4492305602588839, -0.4470673352195838, -0.44614816231599785, -0.44500421250308014, -0.4433542021865776, -0.44229394040713277, -0.4379825724380826, -0.4305976076993396, -0.4296902245577015, -0.42902006567429907, -0.42825416573132585, -0.4225599365688801, -0.41962719381198876, -0.418209611012009, -0.4153423378187456, -0.41204127072248337, -0.41143459929886067, -0.408528961987157, -0.40105449686727807, -0.3987316846351392, -0.39387531103892254, -0.39220604414803606, -0.39001188630039674, -0.3769132608651562]\n",
      "-0.6439104529954679\n",
      "[0.33108213363572875, 0.35277051325445113, 0.35554666356732184, 0.38105677401828114, 0.3830208282646315, 0.3835360189130155, 0.38675660708925963, 0.3876150532640003, 0.3885882379791939, 0.39832323750639725, 0.4019419918016668, 0.40563768543267653, 0.40597559577843684, 0.4116604304104511, 0.41309980279552805, 0.4135631336909694, 0.4219927370844362, 0.42219537807603946, 0.4235008006853942, 0.4255269129349205, 0.43277445643423224, 0.43586404228875136, 0.4421060022495082, 0.44481093158289964, 0.4495259967173965, 0.45123615589487376, 0.451304437361307, 0.4540236649746801, 0.4543970316134987, 0.45525272431784836, 0.45661428977110285, 0.461471552213069, 0.46247159201037175, 0.4632521038485004, 0.4657199193669504, 0.46697680155762133, 0.46720752424969464, 0.46847867223717243, 0.46911568293939554, 0.4706722969308973, 0.47382744246151176, 0.47396983801888093, 0.4740157978643539, 0.4745302720997035, 0.47464530852093045, 0.4748564205212178, 0.475505148662933, 0.475714073247409, 0.4771366259809781, 0.47789016894652675, 0.4820832284094369, 0.48235209430917114, 0.4842960300473896, 0.48469313087371324, 0.48646366124274276, 0.4884147759234943, 0.49569138296184134, 0.49593010482378025, 0.4961660476877367, 0.4964534438600978, 0.4999426453395259, 0.500801989349693, 0.5055646438597244, 0.5057746026826461, 0.5105476572462282, 0.5116446734198008, 0.5138925134335104, 0.5147905302507828, 0.5151317211561134, 0.5160690231004603, 0.518284593125619, 0.5185966533524666, 0.5197450190578145, 0.5237723182306928, 0.5242564275541689, 0.527264966288114, 0.5305408076719184, 0.5318532782225502, 0.5405393421251731, 0.5419246313226787, 0.542009937998419, 0.5425402574551053, 0.5427217787254232, 0.5447018158982218, 0.5455990721687709, 0.5469385093997547, 0.5471721949048161, 0.5524806456937799, 0.5532880052767577, 0.566029375548983, 0.5666995550796005, 0.5723093719803845, 0.5728958438923695, 0.5740458384088846, 0.5754334269299971, 0.5797613000789289, 0.5797984973700215, 0.5825309725237796, 0.608215715951344, 0.646658703227222]\n",
      "0.42164476363354536\n"
     ]
    }
   ],
   "source": [
    "print(pNeg, pPos)\n",
    "print(np.percentile(threshNeg, 10))\n",
    "print(threshNeg)\n",
    "print(np.min(rhoMap))\n",
    "\n",
    "print(threshPos)\n",
    "print(np.max(rhoMap))"
   ]
  },
  {
   "cell_type": "markdown",
   "metadata": {},
   "source": [
    "The usual threshold for saying a result is statstically sgnificant is p=<0.05. Unfortunately, in my example analysis we don't seem to have a globally significant result. Everything below here won't really work properly because there is not significant result in this case, however let's do it anyway so you can see what to do when you mine something else later and get a significant result!\n",
    "\n",
    "---\n",
    "\n",
    "We also have our map of rho values, and the associated permutation test distribution, so we can plot the regions of significance overlaid on the rho-map and CT anatomy. To do this, we use matplotlib's imshow and contourf functions as below"
   ]
  },
  {
   "cell_type": "code",
   "execution_count": 95,
   "metadata": {},
   "outputs": [
    {
     "data": {
      "image/png": "[encoded data removed]",
      "text/plain": [
       "<Figure size 720x720 with 1 Axes>"
      ]
     },
     "metadata": {
      "needs_background": "light"
     },
     "output_type": "display_data"
    }
   ],
   "source": [
    "fig = plt.figure(figsize=(10,10))\n",
    "\n",
    "ax = fig.add_subplot(111)\n",
    "\n",
    "# First show the CT\n",
    "ctImg = ax.imshow(referenceAnatomy[:,:,64], cmap='Greys_r')\n",
    "\n",
    "# Now add the t-map with some transparency\n",
    "rhomapImg = ax.imshow(rhoMap[:,:,64], alpha=0.3)\n",
    "\n",
    "plt.axis('off');\n",
    "\n",
    "neg_p005 = np.percentile(threshNeg, 0.05)\n",
    "neg_p010 = np.percentile(threshNeg, 0.10)\n",
    "neg_p015 = np.percentile(threshNeg, 0.15) ## Contour plot needs two levels, so we use p=0.05 & 0.10\n",
    "pos_p005 = np.percentile(threshPos, 0.95)\n",
    "pos_p010 = np.percentile(threshPos, 0.9)\n",
    "pos_p015 = np.percentile(threshPos, 0.75)\n",
    "\n",
    "## Now do the contourplot at the 95% level for p=0.05\n",
    "pos_contourplot = plt.contour(rhoMap[:,:,64], levels=[pos_p015, pos_p010, pos_p005], colors='r')\n",
    "# neg_contourplot = plt.contour(rhoMap[:,:,64], levels=[neg_p005, neg_p010, neg_p015], colors='g')"
   ]
  },
  {
   "cell_type": "markdown",
   "metadata": {},
   "source": [
    "Now we have a complete pipeline to do image based data mining!\n",
    "\n",
    "Now use this pipeline to try mining against some of the other outcomes in the clinical data, for example:\n",
    "\n",
    "- Change in BMI between pre/post treatment\n",
    "- Change in skeletal muscle pre/post treatment\n",
    "- Change in other areas, e.g. fats\n",
    "- Skeletal muscle change against CT image density\n",
    "\n",
    "Have fun!"
   ]
  }
 ],
 "metadata": {
  "kernelspec": {
   "display_name": "Python 3",
   "language": "python",
   "name": "python3"
  },
  "language_info": {
   "codemirror_mode": {
    "name": "ipython",
    "version": 3
   },
   "file_extension": ".py",
   "mimetype": "text/x-python",
   "name": "python",
   "nbconvert_exporter": "python",
   "pygments_lexer": "ipython3",
   "version": "3.6.8"
  }
 },
 "nbformat": 4,
 "nbformat_minor": 2
}
